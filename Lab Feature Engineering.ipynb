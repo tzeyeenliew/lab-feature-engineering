{
 "cells": [
  {
   "cell_type": "markdown",
   "id": "8cc3edc0",
   "metadata": {},
   "source": [
    "### Feature Engineering Lab\n",
    "#### Here we will work on cleaning some of the other columns in the dataset using the techniques that we used before in the lessons.\n",
    "\n",
    "#### Check for null values in the numerical columns.\n"
   ]
  },
  {
   "cell_type": "markdown",
   "id": "fbae248a",
   "metadata": {},
   "source": [
    "#### Importing the necessary libraries"
   ]
  },
  {
   "cell_type": "code",
   "execution_count": 2,
   "id": "14a9cff9",
   "metadata": {
    "scrolled": true
   },
   "outputs": [
    {
     "name": "stdout",
     "output_type": "stream",
     "text": [
      "Requirement already satisfied: sklearn in c:\\users\\hp\\anaconda3\\lib\\site-packages (0.0.post5)\n"
     ]
    }
   ],
   "source": [
    "import pandas as pd\n",
    "import numpy as np\n",
    "import datetime\n",
    "import warnings\n",
    "import matplotlib.pyplot as plt\n",
    "import seaborn as sns\n",
    "!pip install sklearn\n",
    "pd.set_option('display.max_columns', 10)\n",
    "pd.set_option('display.max_rows', 20) #when calculating for null percentages, not all output is show unless this code is executed\n",
    "warnings.filterwarnings(\"ignore\")"
   ]
  },
  {
   "cell_type": "markdown",
   "id": "63607c71",
   "metadata": {},
   "source": [
    "#### Libraries for imputing null values"
   ]
  },
  {
   "cell_type": "code",
   "execution_count": 4,
   "id": "0f6b7a9d",
   "metadata": {},
   "outputs": [],
   "source": [
    "from sklearn.ensemble import RandomForestRegressor\n",
    "from sklearn.experimental import enable_iterative_imputer #to bypass the import error\n",
    "from sklearn.impute import IterativeImputer"
   ]
  },
  {
   "cell_type": "code",
   "execution_count": 5,
   "id": "26dc706f",
   "metadata": {},
   "outputs": [],
   "source": [
    "data= pd.read_csv('learningSet.csv')"
   ]
  },
  {
   "cell_type": "code",
   "execution_count": 6,
   "id": "8b086700",
   "metadata": {
    "scrolled": true
   },
   "outputs": [
    {
     "data": {
      "text/html": [
       "<div>\n",
       "<style scoped>\n",
       "    .dataframe tbody tr th:only-of-type {\n",
       "        vertical-align: middle;\n",
       "    }\n",
       "\n",
       "    .dataframe tbody tr th {\n",
       "        vertical-align: top;\n",
       "    }\n",
       "\n",
       "    .dataframe thead th {\n",
       "        text-align: right;\n",
       "    }\n",
       "</style>\n",
       "<table border=\"1\" class=\"dataframe\">\n",
       "  <thead>\n",
       "    <tr style=\"text-align: right;\">\n",
       "      <th></th>\n",
       "      <th>ODATEDW</th>\n",
       "      <th>OSOURCE</th>\n",
       "      <th>TCODE</th>\n",
       "      <th>STATE</th>\n",
       "      <th>ZIP</th>\n",
       "      <th>...</th>\n",
       "      <th>MDMAUD_R</th>\n",
       "      <th>MDMAUD_F</th>\n",
       "      <th>MDMAUD_A</th>\n",
       "      <th>CLUSTER2</th>\n",
       "      <th>GEOCODE2</th>\n",
       "    </tr>\n",
       "  </thead>\n",
       "  <tbody>\n",
       "    <tr>\n",
       "      <th>53443</th>\n",
       "      <td>8601</td>\n",
       "      <td>LKE</td>\n",
       "      <td>1</td>\n",
       "      <td>WI</td>\n",
       "      <td>54740</td>\n",
       "      <td>...</td>\n",
       "      <td>X</td>\n",
       "      <td>X</td>\n",
       "      <td>X</td>\n",
       "      <td>56.0</td>\n",
       "      <td>D</td>\n",
       "    </tr>\n",
       "    <tr>\n",
       "      <th>18504</th>\n",
       "      <td>9301</td>\n",
       "      <td>BLI</td>\n",
       "      <td>1</td>\n",
       "      <td>IL</td>\n",
       "      <td>60445</td>\n",
       "      <td>...</td>\n",
       "      <td>X</td>\n",
       "      <td>X</td>\n",
       "      <td>X</td>\n",
       "      <td>21.0</td>\n",
       "      <td>A</td>\n",
       "    </tr>\n",
       "    <tr>\n",
       "      <th>63911</th>\n",
       "      <td>9601</td>\n",
       "      <td>WIG</td>\n",
       "      <td>0</td>\n",
       "      <td>NV</td>\n",
       "      <td>89128</td>\n",
       "      <td>...</td>\n",
       "      <td>X</td>\n",
       "      <td>X</td>\n",
       "      <td>X</td>\n",
       "      <td>13.0</td>\n",
       "      <td>B</td>\n",
       "    </tr>\n",
       "    <tr>\n",
       "      <th>19671</th>\n",
       "      <td>9101</td>\n",
       "      <td>AML</td>\n",
       "      <td>2</td>\n",
       "      <td>TX</td>\n",
       "      <td>77036</td>\n",
       "      <td>...</td>\n",
       "      <td>X</td>\n",
       "      <td>X</td>\n",
       "      <td>X</td>\n",
       "      <td>9.0</td>\n",
       "      <td>A</td>\n",
       "    </tr>\n",
       "    <tr>\n",
       "      <th>21661</th>\n",
       "      <td>8901</td>\n",
       "      <td>FCR</td>\n",
       "      <td>2</td>\n",
       "      <td>MO</td>\n",
       "      <td>64113</td>\n",
       "      <td>...</td>\n",
       "      <td>X</td>\n",
       "      <td>X</td>\n",
       "      <td>X</td>\n",
       "      <td>7.0</td>\n",
       "      <td>B</td>\n",
       "    </tr>\n",
       "  </tbody>\n",
       "</table>\n",
       "<p>5 rows × 481 columns</p>\n",
       "</div>"
      ],
      "text/plain": [
       "       ODATEDW OSOURCE  TCODE STATE    ZIP  ... MDMAUD_R MDMAUD_F  MDMAUD_A  \\\n",
       "53443     8601     LKE      1    WI  54740  ...        X        X         X   \n",
       "18504     9301     BLI      1    IL  60445  ...        X        X         X   \n",
       "63911     9601     WIG      0    NV  89128  ...        X        X         X   \n",
       "19671     9101     AML      2    TX  77036  ...        X        X         X   \n",
       "21661     8901     FCR      2    MO  64113  ...        X        X         X   \n",
       "\n",
       "      CLUSTER2 GEOCODE2  \n",
       "53443     56.0        D  \n",
       "18504     21.0        A  \n",
       "63911     13.0        B  \n",
       "19671      9.0        A  \n",
       "21661      7.0        B  \n",
       "\n",
       "[5 rows x 481 columns]"
      ]
     },
     "execution_count": 6,
     "metadata": {},
     "output_type": "execute_result"
    }
   ],
   "source": [
    "data.sample(5)"
   ]
  },
  {
   "cell_type": "code",
   "execution_count": 7,
   "id": "4218a8ac",
   "metadata": {
    "scrolled": true
   },
   "outputs": [
    {
     "data": {
      "text/html": [
       "<div>\n",
       "<style scoped>\n",
       "    .dataframe tbody tr th:only-of-type {\n",
       "        vertical-align: middle;\n",
       "    }\n",
       "\n",
       "    .dataframe tbody tr th {\n",
       "        vertical-align: top;\n",
       "    }\n",
       "\n",
       "    .dataframe thead th {\n",
       "        text-align: right;\n",
       "    }\n",
       "</style>\n",
       "<table border=\"1\" class=\"dataframe\">\n",
       "  <thead>\n",
       "    <tr style=\"text-align: right;\">\n",
       "      <th></th>\n",
       "      <th>ODATEDW</th>\n",
       "      <th>TCODE</th>\n",
       "      <th>DOB</th>\n",
       "      <th>AGE</th>\n",
       "      <th>NUMCHLD</th>\n",
       "      <th>...</th>\n",
       "      <th>TARGET_B</th>\n",
       "      <th>TARGET_D</th>\n",
       "      <th>HPHONE_D</th>\n",
       "      <th>RFA_2F</th>\n",
       "      <th>CLUSTER2</th>\n",
       "    </tr>\n",
       "  </thead>\n",
       "  <tbody>\n",
       "    <tr>\n",
       "      <th>count</th>\n",
       "      <td>95412.000000</td>\n",
       "      <td>95412.000000</td>\n",
       "      <td>95412.000000</td>\n",
       "      <td>71747.000000</td>\n",
       "      <td>12386.000000</td>\n",
       "      <td>...</td>\n",
       "      <td>95412.000000</td>\n",
       "      <td>95412.000000</td>\n",
       "      <td>95412.000000</td>\n",
       "      <td>95412.000000</td>\n",
       "      <td>95280.000000</td>\n",
       "    </tr>\n",
       "    <tr>\n",
       "      <th>mean</th>\n",
       "      <td>9141.363256</td>\n",
       "      <td>54.223117</td>\n",
       "      <td>2723.602933</td>\n",
       "      <td>61.611649</td>\n",
       "      <td>1.527773</td>\n",
       "      <td>...</td>\n",
       "      <td>0.050759</td>\n",
       "      <td>0.793073</td>\n",
       "      <td>0.500618</td>\n",
       "      <td>1.910053</td>\n",
       "      <td>31.533711</td>\n",
       "    </tr>\n",
       "    <tr>\n",
       "      <th>std</th>\n",
       "      <td>343.454752</td>\n",
       "      <td>953.844476</td>\n",
       "      <td>2132.241295</td>\n",
       "      <td>16.664199</td>\n",
       "      <td>0.806861</td>\n",
       "      <td>...</td>\n",
       "      <td>0.219506</td>\n",
       "      <td>4.429725</td>\n",
       "      <td>0.500002</td>\n",
       "      <td>1.072749</td>\n",
       "      <td>18.764614</td>\n",
       "    </tr>\n",
       "    <tr>\n",
       "      <th>min</th>\n",
       "      <td>8306.000000</td>\n",
       "      <td>0.000000</td>\n",
       "      <td>0.000000</td>\n",
       "      <td>1.000000</td>\n",
       "      <td>1.000000</td>\n",
       "      <td>...</td>\n",
       "      <td>0.000000</td>\n",
       "      <td>0.000000</td>\n",
       "      <td>0.000000</td>\n",
       "      <td>1.000000</td>\n",
       "      <td>1.000000</td>\n",
       "    </tr>\n",
       "    <tr>\n",
       "      <th>25%</th>\n",
       "      <td>8801.000000</td>\n",
       "      <td>0.000000</td>\n",
       "      <td>201.000000</td>\n",
       "      <td>48.000000</td>\n",
       "      <td>1.000000</td>\n",
       "      <td>...</td>\n",
       "      <td>0.000000</td>\n",
       "      <td>0.000000</td>\n",
       "      <td>0.000000</td>\n",
       "      <td>1.000000</td>\n",
       "      <td>15.000000</td>\n",
       "    </tr>\n",
       "    <tr>\n",
       "      <th>50%</th>\n",
       "      <td>9201.000000</td>\n",
       "      <td>1.000000</td>\n",
       "      <td>2610.000000</td>\n",
       "      <td>62.000000</td>\n",
       "      <td>1.000000</td>\n",
       "      <td>...</td>\n",
       "      <td>0.000000</td>\n",
       "      <td>0.000000</td>\n",
       "      <td>1.000000</td>\n",
       "      <td>2.000000</td>\n",
       "      <td>32.000000</td>\n",
       "    </tr>\n",
       "    <tr>\n",
       "      <th>75%</th>\n",
       "      <td>9501.000000</td>\n",
       "      <td>2.000000</td>\n",
       "      <td>4601.000000</td>\n",
       "      <td>75.000000</td>\n",
       "      <td>2.000000</td>\n",
       "      <td>...</td>\n",
       "      <td>0.000000</td>\n",
       "      <td>0.000000</td>\n",
       "      <td>1.000000</td>\n",
       "      <td>3.000000</td>\n",
       "      <td>49.000000</td>\n",
       "    </tr>\n",
       "    <tr>\n",
       "      <th>max</th>\n",
       "      <td>9701.000000</td>\n",
       "      <td>72002.000000</td>\n",
       "      <td>9710.000000</td>\n",
       "      <td>98.000000</td>\n",
       "      <td>7.000000</td>\n",
       "      <td>...</td>\n",
       "      <td>1.000000</td>\n",
       "      <td>200.000000</td>\n",
       "      <td>1.000000</td>\n",
       "      <td>4.000000</td>\n",
       "      <td>62.000000</td>\n",
       "    </tr>\n",
       "  </tbody>\n",
       "</table>\n",
       "<p>8 rows × 407 columns</p>\n",
       "</div>"
      ],
      "text/plain": [
       "            ODATEDW         TCODE           DOB           AGE       NUMCHLD  \\\n",
       "count  95412.000000  95412.000000  95412.000000  71747.000000  12386.000000   \n",
       "mean    9141.363256     54.223117   2723.602933     61.611649      1.527773   \n",
       "std      343.454752    953.844476   2132.241295     16.664199      0.806861   \n",
       "min     8306.000000      0.000000      0.000000      1.000000      1.000000   \n",
       "25%     8801.000000      0.000000    201.000000     48.000000      1.000000   \n",
       "50%     9201.000000      1.000000   2610.000000     62.000000      1.000000   \n",
       "75%     9501.000000      2.000000   4601.000000     75.000000      2.000000   \n",
       "max     9701.000000  72002.000000   9710.000000     98.000000      7.000000   \n",
       "\n",
       "       ...      TARGET_B      TARGET_D      HPHONE_D        RFA_2F  \\\n",
       "count  ...  95412.000000  95412.000000  95412.000000  95412.000000   \n",
       "mean   ...      0.050759      0.793073      0.500618      1.910053   \n",
       "std    ...      0.219506      4.429725      0.500002      1.072749   \n",
       "min    ...      0.000000      0.000000      0.000000      1.000000   \n",
       "25%    ...      0.000000      0.000000      0.000000      1.000000   \n",
       "50%    ...      0.000000      0.000000      1.000000      2.000000   \n",
       "75%    ...      0.000000      0.000000      1.000000      3.000000   \n",
       "max    ...      1.000000    200.000000      1.000000      4.000000   \n",
       "\n",
       "           CLUSTER2  \n",
       "count  95280.000000  \n",
       "mean      31.533711  \n",
       "std       18.764614  \n",
       "min        1.000000  \n",
       "25%       15.000000  \n",
       "50%       32.000000  \n",
       "75%       49.000000  \n",
       "max       62.000000  \n",
       "\n",
       "[8 rows x 407 columns]"
      ]
     },
     "execution_count": 7,
     "metadata": {},
     "output_type": "execute_result"
    }
   ],
   "source": [
    "data.describe()"
   ]
  },
  {
   "cell_type": "code",
   "execution_count": 8,
   "id": "79c06f40",
   "metadata": {},
   "outputs": [
    {
     "name": "stdout",
     "output_type": "stream",
     "text": [
      "Index(['ODATEDW', 'TCODE', 'DOB', 'AGE', 'NUMCHLD', 'INCOME', 'WEALTH1', 'HIT',\n",
      "       'MBCRAFT', 'MBGARDEN',\n",
      "       ...\n",
      "       'FISTDATE', 'NEXTDATE', 'TIMELAG', 'AVGGIFT', 'CONTROLN', 'TARGET_B',\n",
      "       'TARGET_D', 'HPHONE_D', 'RFA_2F', 'CLUSTER2'],\n",
      "      dtype='object', length=407)\n"
     ]
    }
   ],
   "source": [
    "numerical_columns= data.select_dtypes(include=['int64', 'float64']).columns\n",
    "print(numerical_columns)\n",
    "                                               "
   ]
  },
  {
   "cell_type": "code",
   "execution_count": 9,
   "id": "8ba2c34d",
   "metadata": {
    "scrolled": true
   },
   "outputs": [
    {
     "name": "stdout",
     "output_type": "stream",
     "text": [
      "ODATEDW         0\n",
      "TCODE           0\n",
      "DOB             0\n",
      "AGE         23665\n",
      "NUMCHLD     83026\n",
      "            ...  \n",
      "TARGET_B        0\n",
      "TARGET_D        0\n",
      "HPHONE_D        0\n",
      "RFA_2F          0\n",
      "CLUSTER2      132\n",
      "Length: 407, dtype: int64\n"
     ]
    }
   ],
   "source": [
    "null_counts = data[numerical_columns].isnull().sum()\n",
    "print(null_counts)\n",
    "                                                                                                                                             "
   ]
  },
  {
   "cell_type": "code",
   "execution_count": 10,
   "id": "cc143c1c",
   "metadata": {},
   "outputs": [
    {
     "data": {
      "text/html": [
       "<div>\n",
       "<style scoped>\n",
       "    .dataframe tbody tr th:only-of-type {\n",
       "        vertical-align: middle;\n",
       "    }\n",
       "\n",
       "    .dataframe tbody tr th {\n",
       "        vertical-align: top;\n",
       "    }\n",
       "\n",
       "    .dataframe thead th {\n",
       "        text-align: right;\n",
       "    }\n",
       "</style>\n",
       "<table border=\"1\" class=\"dataframe\">\n",
       "  <thead>\n",
       "    <tr style=\"text-align: right;\">\n",
       "      <th></th>\n",
       "      <th>percentage</th>\n",
       "    </tr>\n",
       "  </thead>\n",
       "  <tbody>\n",
       "    <tr>\n",
       "      <th>RDATE_5</th>\n",
       "      <td>99.990567</td>\n",
       "    </tr>\n",
       "    <tr>\n",
       "      <th>RAMNT_5</th>\n",
       "      <td>99.990567</td>\n",
       "    </tr>\n",
       "    <tr>\n",
       "      <th>RAMNT_3</th>\n",
       "      <td>99.746363</td>\n",
       "    </tr>\n",
       "    <tr>\n",
       "      <th>RDATE_3</th>\n",
       "      <td>99.746363</td>\n",
       "    </tr>\n",
       "    <tr>\n",
       "      <th>RDATE_4</th>\n",
       "      <td>99.705488</td>\n",
       "    </tr>\n",
       "    <tr>\n",
       "      <th>...</th>\n",
       "      <td>...</td>\n",
       "    </tr>\n",
       "    <tr>\n",
       "      <th>ADATE_3</th>\n",
       "      <td>2.043768</td>\n",
       "    </tr>\n",
       "    <tr>\n",
       "      <th>MSA</th>\n",
       "      <td>0.138347</td>\n",
       "    </tr>\n",
       "    <tr>\n",
       "      <th>ADI</th>\n",
       "      <td>0.138347</td>\n",
       "    </tr>\n",
       "    <tr>\n",
       "      <th>DMA</th>\n",
       "      <td>0.138347</td>\n",
       "    </tr>\n",
       "    <tr>\n",
       "      <th>CLUSTER2</th>\n",
       "      <td>0.138347</td>\n",
       "    </tr>\n",
       "  </tbody>\n",
       "</table>\n",
       "<p>91 rows × 1 columns</p>\n",
       "</div>"
      ],
      "text/plain": [
       "          percentage\n",
       "RDATE_5    99.990567\n",
       "RAMNT_5    99.990567\n",
       "RAMNT_3    99.746363\n",
       "RDATE_3    99.746363\n",
       "RDATE_4    99.705488\n",
       "...              ...\n",
       "ADATE_3     2.043768\n",
       "MSA         0.138347\n",
       "ADI         0.138347\n",
       "DMA         0.138347\n",
       "CLUSTER2    0.138347\n",
       "\n",
       "[91 rows x 1 columns]"
      ]
     },
     "execution_count": 10,
     "metadata": {},
     "output_type": "execute_result"
    }
   ],
   "source": [
    "numerical_nulls = pd.DataFrame(data.select_dtypes(np.number).isna().sum()*100/len(data), columns=[\"percentage\"])\n",
    "numerical_nulls[numerical_nulls[\"percentage\"]>0].sort_values(\"percentage\", ascending=False)"
   ]
  },
  {
   "cell_type": "markdown",
   "id": "dd908bf2",
   "metadata": {},
   "source": [
    "#### What stands out is that RDATE, RAMNT and ADATE variables have unusually high proportions of nulls. RDATE and RAMNT are the gift dates and gift amounts respectively, so it can be construed that if no donation was made by the recipient, no entries would be made into those columns. Therefore, it stands to assume that these NANs probably indicate non-donations (0)."
   ]
  },
  {
   "cell_type": "code",
   "execution_count": 11,
   "id": "8b1ddf81",
   "metadata": {},
   "outputs": [],
   "source": [
    "for column in data.columns:\n",
    "    if column.startswith(\"RAMNT\"):\n",
    "        data[column]= data[column].fillna(0)"
   ]
  },
  {
   "cell_type": "code",
   "execution_count": 12,
   "id": "e4d31e7b",
   "metadata": {},
   "outputs": [
    {
     "data": {
      "text/html": [
       "<div>\n",
       "<style scoped>\n",
       "    .dataframe tbody tr th:only-of-type {\n",
       "        vertical-align: middle;\n",
       "    }\n",
       "\n",
       "    .dataframe tbody tr th {\n",
       "        vertical-align: top;\n",
       "    }\n",
       "\n",
       "    .dataframe thead th {\n",
       "        text-align: right;\n",
       "    }\n",
       "</style>\n",
       "<table border=\"1\" class=\"dataframe\">\n",
       "  <thead>\n",
       "    <tr style=\"text-align: right;\">\n",
       "      <th></th>\n",
       "      <th>percentage</th>\n",
       "    </tr>\n",
       "  </thead>\n",
       "  <tbody>\n",
       "    <tr>\n",
       "      <th>RDATE_5</th>\n",
       "      <td>99.990567</td>\n",
       "    </tr>\n",
       "    <tr>\n",
       "      <th>RDATE_3</th>\n",
       "      <td>99.746363</td>\n",
       "    </tr>\n",
       "    <tr>\n",
       "      <th>RDATE_4</th>\n",
       "      <td>99.705488</td>\n",
       "    </tr>\n",
       "    <tr>\n",
       "      <th>RDATE_6</th>\n",
       "      <td>99.186685</td>\n",
       "    </tr>\n",
       "    <tr>\n",
       "      <th>RDATE_15</th>\n",
       "      <td>92.388798</td>\n",
       "    </tr>\n",
       "    <tr>\n",
       "      <th>...</th>\n",
       "      <td>...</td>\n",
       "    </tr>\n",
       "    <tr>\n",
       "      <th>ADATE_3</th>\n",
       "      <td>2.043768</td>\n",
       "    </tr>\n",
       "    <tr>\n",
       "      <th>MSA</th>\n",
       "      <td>0.138347</td>\n",
       "    </tr>\n",
       "    <tr>\n",
       "      <th>ADI</th>\n",
       "      <td>0.138347</td>\n",
       "    </tr>\n",
       "    <tr>\n",
       "      <th>DMA</th>\n",
       "      <td>0.138347</td>\n",
       "    </tr>\n",
       "    <tr>\n",
       "      <th>CLUSTER2</th>\n",
       "      <td>0.138347</td>\n",
       "    </tr>\n",
       "  </tbody>\n",
       "</table>\n",
       "<p>69 rows × 1 columns</p>\n",
       "</div>"
      ],
      "text/plain": [
       "          percentage\n",
       "RDATE_5    99.990567\n",
       "RDATE_3    99.746363\n",
       "RDATE_4    99.705488\n",
       "RDATE_6    99.186685\n",
       "RDATE_15   92.388798\n",
       "...              ...\n",
       "ADATE_3     2.043768\n",
       "MSA         0.138347\n",
       "ADI         0.138347\n",
       "DMA         0.138347\n",
       "CLUSTER2    0.138347\n",
       "\n",
       "[69 rows x 1 columns]"
      ]
     },
     "execution_count": 12,
     "metadata": {},
     "output_type": "execute_result"
    }
   ],
   "source": [
    "numerical_nulls = pd.DataFrame(data.select_dtypes(np.number).isna().sum()*100/len(data), columns=[\"percentage\"])  #to check if nulls in RAMNT have been successfully replaced\n",
    "numerical_nulls[numerical_nulls[\"percentage\"]>0].sort_values(\"percentage\", ascending=False)"
   ]
  },
  {
   "cell_type": "code",
   "execution_count": 13,
   "id": "6b14f4a5",
   "metadata": {},
   "outputs": [],
   "source": [
    "#### As per our previous activities, we were instructed to remove ADATE & RDATE. And lo and behold!"
   ]
  },
  {
   "cell_type": "code",
   "execution_count": 14,
   "id": "236501e6",
   "metadata": {},
   "outputs": [],
   "source": [
    "dropped_columns=[]  #making a list to store all the dropped columns"
   ]
  },
  {
   "cell_type": "code",
   "execution_count": 15,
   "id": "ec7b769c",
   "metadata": {},
   "outputs": [],
   "source": [
    "for column in data.columns:\n",
    "    if column.startswith(\"ADATE\"):\n",
    "        dropped_columns.append(column)\n",
    "        data= data.drop(column, axis=1)"
   ]
  },
  {
   "cell_type": "code",
   "execution_count": 16,
   "id": "b0a3e14a",
   "metadata": {},
   "outputs": [
    {
     "name": "stdout",
     "output_type": "stream",
     "text": [
      "DataFrame does not have ADATE columns\n"
     ]
    }
   ],
   "source": [
    "has_adate_columns = any(col.startswith(\"ADATE\") for col in data.columns) #checking if the columns were really dropped\n",
    "print(\"DataFrame still has ADATE columns\" if has_adate_columns else \"DataFrame does not have ADATE columns\")"
   ]
  },
  {
   "cell_type": "code",
   "execution_count": 17,
   "id": "2832ad2d",
   "metadata": {},
   "outputs": [],
   "source": [
    "for column in data.columns:\n",
    "    if column.startswith(\"RDATE\"):\n",
    "        dropped_columns.append(column)\n",
    "        data= data.drop(column, axis=1)"
   ]
  },
  {
   "cell_type": "code",
   "execution_count": 18,
   "id": "3f39fdb0",
   "metadata": {},
   "outputs": [
    {
     "name": "stdout",
     "output_type": "stream",
     "text": [
      "DataFrame does not have RDATE columns\n"
     ]
    }
   ],
   "source": [
    "has_rdate_columns = any(col.startswith(\"RDATE\") for col in data.columns) #checking if the columns were really dropped\n",
    "print(\"DataFrame still has RDATE columns\" if has_rdate_columns else \"DataFrame does not have RDATE columns\")"
   ]
  },
  {
   "cell_type": "code",
   "execution_count": 19,
   "id": "0ae67a55",
   "metadata": {},
   "outputs": [
    {
     "data": {
      "text/html": [
       "<div>\n",
       "<style scoped>\n",
       "    .dataframe tbody tr th:only-of-type {\n",
       "        vertical-align: middle;\n",
       "    }\n",
       "\n",
       "    .dataframe tbody tr th {\n",
       "        vertical-align: top;\n",
       "    }\n",
       "\n",
       "    .dataframe thead th {\n",
       "        text-align: right;\n",
       "    }\n",
       "</style>\n",
       "<table border=\"1\" class=\"dataframe\">\n",
       "  <thead>\n",
       "    <tr style=\"text-align: right;\">\n",
       "      <th></th>\n",
       "      <th>percentage</th>\n",
       "    </tr>\n",
       "  </thead>\n",
       "  <tbody>\n",
       "    <tr>\n",
       "      <th>NUMCHLD</th>\n",
       "      <td>87.018404</td>\n",
       "    </tr>\n",
       "    <tr>\n",
       "      <th>MBCOLECT</th>\n",
       "      <td>55.458433</td>\n",
       "    </tr>\n",
       "    <tr>\n",
       "      <th>PUBCULIN</th>\n",
       "      <td>55.395548</td>\n",
       "    </tr>\n",
       "    <tr>\n",
       "      <th>MAGFEM</th>\n",
       "      <td>55.395548</td>\n",
       "    </tr>\n",
       "    <tr>\n",
       "      <th>PUBNEWFN</th>\n",
       "      <td>55.395548</td>\n",
       "    </tr>\n",
       "    <tr>\n",
       "      <th>...</th>\n",
       "      <td>...</td>\n",
       "    </tr>\n",
       "    <tr>\n",
       "      <th>TIMELAG</th>\n",
       "      <td>10.452564</td>\n",
       "    </tr>\n",
       "    <tr>\n",
       "      <th>MSA</th>\n",
       "      <td>0.138347</td>\n",
       "    </tr>\n",
       "    <tr>\n",
       "      <th>ADI</th>\n",
       "      <td>0.138347</td>\n",
       "    </tr>\n",
       "    <tr>\n",
       "      <th>DMA</th>\n",
       "      <td>0.138347</td>\n",
       "    </tr>\n",
       "    <tr>\n",
       "      <th>CLUSTER2</th>\n",
       "      <td>0.138347</td>\n",
       "    </tr>\n",
       "  </tbody>\n",
       "</table>\n",
       "<p>25 rows × 1 columns</p>\n",
       "</div>"
      ],
      "text/plain": [
       "          percentage\n",
       "NUMCHLD    87.018404\n",
       "MBCOLECT   55.458433\n",
       "PUBCULIN   55.395548\n",
       "MAGFEM     55.395548\n",
       "PUBNEWFN   55.395548\n",
       "...              ...\n",
       "TIMELAG    10.452564\n",
       "MSA         0.138347\n",
       "ADI         0.138347\n",
       "DMA         0.138347\n",
       "CLUSTER2    0.138347\n",
       "\n",
       "[25 rows x 1 columns]"
      ]
     },
     "execution_count": 19,
     "metadata": {},
     "output_type": "execute_result"
    }
   ],
   "source": [
    "numerical_nulls = pd.DataFrame(data.select_dtypes(np.number).isna().sum()*100/len(data), columns=[\"percentage\"])  #to check if nulls in RAMNT have been successfully replaced\n",
    "numerical_nulls[numerical_nulls[\"percentage\"]>0].sort_values(\"percentage\", ascending=False)"
   ]
  },
  {
   "cell_type": "markdown",
   "id": "85b20219",
   "metadata": {},
   "source": [
    "#### Use appropriate methods to clean the columns GEOCODE2, WEALTH1, ADI, DMA,and MSA."
   ]
  },
  {
   "cell_type": "code",
   "execution_count": 20,
   "id": "061733fb",
   "metadata": {},
   "outputs": [],
   "source": [
    "#### As the case study requires us to classify respondents as donors or non donors, the nulls must be eliminated for the eventual logistic regression to run."
   ]
  },
  {
   "cell_type": "code",
   "execution_count": 21,
   "id": "5a839351",
   "metadata": {},
   "outputs": [],
   "source": [
    "lab_columns=['GEOCODE2', 'WEALTH1', 'ADI', 'DMA', 'MSA']"
   ]
  },
  {
   "cell_type": "code",
   "execution_count": 22,
   "id": "938b470b",
   "metadata": {},
   "outputs": [],
   "source": [
    "#Apart from WEALTH1, every other variable seems to have the same number of nulls. This could indicate the same number of rows, so let's look into that. later discoveries in the EDA section seems to reinforce the idea that GEOCODE2, ADI, DMA and MSA are all related to each other, in the sense that they are all geographical codes."
   ]
  },
  {
   "cell_type": "code",
   "execution_count": 23,
   "id": "d1e6cc66",
   "metadata": {},
   "outputs": [
    {
     "name": "stdout",
     "output_type": "stream",
     "text": [
      "Null value counts for each column:\n",
      "GEOCODE2      132\n",
      "WEALTH1     44732\n",
      "ADI           132\n",
      "DMA           132\n",
      "MSA           132\n",
      "dtype: int64\n"
     ]
    }
   ],
   "source": [
    "null_counts = data[lab_columns].isnull().sum()\n",
    "print(\"Null value counts for each column:\")\n",
    "print(null_counts)"
   ]
  },
  {
   "cell_type": "code",
   "execution_count": 24,
   "id": "8b42f0f3",
   "metadata": {},
   "outputs": [
    {
     "name": "stdout",
     "output_type": "stream",
     "text": [
      "            WEALTH1           ADI           DMA           MSA\n",
      "count  50680.000000  95280.000000  95280.000000  95280.000000\n",
      "mean       5.345699    187.356402    664.004072   3527.744102\n",
      "std        2.742490    137.019184    116.363600   2863.904737\n",
      "min        0.000000      0.000000      0.000000      0.000000\n",
      "25%        3.000000     65.000000    561.000000    520.000000\n",
      "50%        6.000000    175.000000    635.000000   3350.000000\n",
      "75%        8.000000    279.000000    801.000000   5960.000000\n",
      "max        9.000000    651.000000    881.000000   9360.000000\n"
     ]
    }
   ],
   "source": [
    "lab_columns_description= data[lab_columns].describe() #Additional EDA\n",
    "print(lab_columns_description)"
   ]
  },
  {
   "cell_type": "code",
   "execution_count": 25,
   "id": "dac80685",
   "metadata": {
    "scrolled": false
   },
   "outputs": [
    {
     "name": "stdout",
     "output_type": "stream",
     "text": [
      "Value counts for 'GEOCODE2':\n",
      "A      34484\n",
      "B      28505\n",
      "D      16580\n",
      "C      15524\n",
      "         187\n",
      "NaN      132\n",
      "Name: GEOCODE2, dtype: int64\n",
      "\n",
      "Value counts for 'WEALTH1':\n",
      "NaN    44732\n",
      "9.0     7585\n",
      "8.0     6793\n",
      "7.0     6198\n",
      "6.0     5825\n",
      "5.0     5280\n",
      "4.0     4810\n",
      "3.0     4237\n",
      "2.0     4085\n",
      "1.0     3454\n",
      "0.0     2413\n",
      "Name: WEALTH1, dtype: int64\n",
      "\n",
      "Value counts for 'ADI':\n",
      "13.0     7296\n",
      "51.0     4622\n",
      "65.0     3765\n",
      "57.0     2836\n",
      "105.0    2617\n",
      "         ... \n",
      "651.0       1\n",
      "103.0       1\n",
      "601.0       1\n",
      "161.0       1\n",
      "147.0       1\n",
      "Name: ADI, Length: 205, dtype: int64\n",
      "\n",
      "Value counts for 'DMA':\n",
      "803.0    7296\n",
      "602.0    4632\n",
      "807.0    3765\n",
      "505.0    2839\n",
      "819.0    2588\n",
      "         ... \n",
      "569.0       1\n",
      "554.0       1\n",
      "584.0       1\n",
      "552.0       1\n",
      "516.0       1\n",
      "Name: DMA, Length: 207, dtype: int64\n",
      "\n",
      "Value counts for 'MSA':\n",
      "0.0       21333\n",
      "4480.0     4606\n",
      "1600.0     4059\n",
      "2160.0     2586\n",
      "520.0      1685\n",
      "          ...  \n",
      "9140.0        1\n",
      "3200.0        1\n",
      "9280.0        1\n",
      "743.0         1\n",
      "8480.0        1\n",
      "Name: MSA, Length: 299, dtype: int64\n",
      "\n"
     ]
    }
   ],
   "source": [
    "for column in lab_columns:  #Some more additional EDA\n",
    "    column_values = data[column].value_counts(dropna=False)\n",
    "    print(f\"Value counts for '{column}':\")\n",
    "    print(column_values)\n",
    "    print()\n"
   ]
  },
  {
   "cell_type": "markdown",
   "id": "a8fd03e3",
   "metadata": {},
   "source": [
    "#### Now, let's check if the same rows across all the listed variables are afflicted with nulls, first with and then without 'WEALTH1'"
   ]
  },
  {
   "cell_type": "code",
   "execution_count": 26,
   "id": "3d6ec38c",
   "metadata": {},
   "outputs": [
    {
     "name": "stdout",
     "output_type": "stream",
     "text": [
      "Number of rows with nulls in all columns: 100\n"
     ]
    }
   ],
   "source": [
    "null_check = data['GEOCODE2'].isnull() & data['ADI'].isnull() & data['DMA'].isnull() & data['MSA'].isnull()& data['WEALTH1'].isnull()\n",
    "rows_with_nulls = null_check.sum()\n",
    "print(f\"Number of rows with nulls in all columns: {rows_with_nulls}\")"
   ]
  },
  {
   "cell_type": "code",
   "execution_count": 27,
   "id": "4467d143",
   "metadata": {},
   "outputs": [
    {
     "name": "stdout",
     "output_type": "stream",
     "text": [
      "Number of rows with nulls in all columns: 132\n"
     ]
    }
   ],
   "source": [
    "null_check = data['GEOCODE2'].isnull() & data['ADI'].isnull() & data['DMA'].isnull() & data['MSA'].isnull()\n",
    "rows_with_nulls = null_check.sum()\n",
    "print(f\"Number of rows with nulls in all columns: {rows_with_nulls}\") "
   ]
  },
  {
   "cell_type": "markdown",
   "id": "31e1cd78",
   "metadata": {},
   "source": [
    "#### Yes they are, and from this alone we can construe that the same rows in the variables are problematic. Hence the best course of option would be to drop those rows before moving forward with dealing the remaining nulls in WEALTH1 "
   ]
  },
  {
   "cell_type": "code",
   "execution_count": 28,
   "id": "a4cf36fa",
   "metadata": {},
   "outputs": [],
   "source": [
    "data.dropna(subset=['GEOCODE2', 'ADI', 'DMA', 'MSA'], inplace=True) #with inplace=true, changes will be made directly to the dataframe"
   ]
  },
  {
   "cell_type": "code",
   "execution_count": 29,
   "id": "37c384d9",
   "metadata": {},
   "outputs": [
    {
     "name": "stdout",
     "output_type": "stream",
     "text": [
      "Null value counts after dropping rows:\n",
      "GEOCODE2        0\n",
      "WEALTH1     44632\n",
      "ADI             0\n",
      "DMA             0\n",
      "MSA             0\n",
      "dtype: int64\n"
     ]
    }
   ],
   "source": [
    "null_counts2 = data[lab_columns].isnull().sum()\n",
    "print(\"Null value counts after dropping rows:\")\n",
    "print(null_counts2) #rows that had nulls smimutaneously across all 5 variables were dropped, leaving the bulk of WEALTH1 nulls to be dealt with separately"
   ]
  },
  {
   "cell_type": "code",
   "execution_count": 30,
   "id": "28d3e00c",
   "metadata": {},
   "outputs": [],
   "source": [
    "### Cleaning 'WEALTH1'"
   ]
  },
  {
   "cell_type": "code",
   "execution_count": 31,
   "id": "ad5c8e92",
   "metadata": {
    "scrolled": true
   },
   "outputs": [
    {
     "name": "stdout",
     "output_type": "stream",
     "text": [
      "95280\n"
     ]
    }
   ],
   "source": [
    "total_values = data['WEALTH1'].value_counts(dropna=False).sum()\n",
    "print(total_values)"
   ]
  },
  {
   "cell_type": "code",
   "execution_count": 32,
   "id": "9e0018fc",
   "metadata": {},
   "outputs": [
    {
     "name": "stdout",
     "output_type": "stream",
     "text": [
      "Proportion of nulls in 'WEALTH1': 46.84%\n"
     ]
    }
   ],
   "source": [
    "wealth1_null_proportion = (data['WEALTH1'].isnull().sum() / len(data['WEALTH1'])) * 100\n",
    "print(f\"Proportion of nulls in 'WEALTH1': {wealth1_null_proportion:.2f}%\") #rounded to two decimal places"
   ]
  },
  {
   "cell_type": "code",
   "execution_count": 33,
   "id": "0743f67c",
   "metadata": {},
   "outputs": [
    {
     "name": "stdout",
     "output_type": "stream",
     "text": [
      "NaN    44632\n",
      "9.0     7580\n",
      "8.0     6785\n",
      "7.0     6196\n",
      "6.0     5823\n",
      "5.0     5277\n",
      "4.0     4808\n",
      "3.0     4233\n",
      "2.0     4083\n",
      "1.0     3452\n",
      "0.0     2411\n",
      "Name: WEALTH1, dtype: int64\n"
     ]
    }
   ],
   "source": [
    "wealth1_describe= data['WEALTH1'].value_counts(dropna=False) #just to reconfirm the number of remaining nulls\n",
    "print(wealth1_describe)"
   ]
  },
  {
   "cell_type": "code",
   "execution_count": 34,
   "id": "d590c95d",
   "metadata": {},
   "outputs": [],
   "source": [
    "#### My first instinct would be to drop WEALTH1 as a variable, but the case study file as well as instructions from our previous activities have indicated that WEALTH1 is important. The other option would be to replace the nulls with the mode, but the mode is of the variable is 9.0, which is the highest point on the scale. Doing so would introduce bias into the variable due to its significant proportion. So I've decided to use sklearn's experimental IterativeImputer to impute the missing values!"
   ]
  },
  {
   "cell_type": "code",
   "execution_count": 35,
   "id": "fa229b76",
   "metadata": {},
   "outputs": [],
   "source": [
    "imputation_model = RandomForestRegressor()"
   ]
  },
  {
   "cell_type": "code",
   "execution_count": 36,
   "id": "aed4f931",
   "metadata": {},
   "outputs": [],
   "source": [
    "imputer = IterativeImputer(estimator=imputation_model)"
   ]
  },
  {
   "cell_type": "code",
   "execution_count": 37,
   "id": "c41723b9",
   "metadata": {},
   "outputs": [],
   "source": [
    "data['WEALTH1'] = imputer.fit_transform(data[['WEALTH1']])"
   ]
  },
  {
   "cell_type": "code",
   "execution_count": 38,
   "id": "4e33dd0d",
   "metadata": {},
   "outputs": [
    {
     "name": "stdout",
     "output_type": "stream",
     "text": [
      "5.345601    44632\n",
      "9.000000     7580\n",
      "8.000000     6785\n",
      "7.000000     6196\n",
      "6.000000     5823\n",
      "5.000000     5277\n",
      "4.000000     4808\n",
      "3.000000     4233\n",
      "2.000000     4083\n",
      "1.000000     3452\n",
      "0.000000     2411\n",
      "Name: WEALTH1, dtype: int64\n"
     ]
    }
   ],
   "source": [
    "wealth1_describe= data['WEALTH1'].value_counts(dropna=False) #just to reconfirm the number of remaining nulls\n",
    "print(wealth1_describe)"
   ]
  },
  {
   "cell_type": "code",
   "execution_count": 39,
   "id": "3f056996",
   "metadata": {},
   "outputs": [],
   "source": [
    "data['WEALTH1'] = np.round(data['WEALTH1']) #because the existing numerical values are discrete in nature"
   ]
  },
  {
   "cell_type": "code",
   "execution_count": 40,
   "id": "e3e2cc13",
   "metadata": {},
   "outputs": [
    {
     "name": "stdout",
     "output_type": "stream",
     "text": [
      "5.0    49909\n",
      "9.0     7580\n",
      "8.0     6785\n",
      "7.0     6196\n",
      "6.0     5823\n",
      "4.0     4808\n",
      "3.0     4233\n",
      "2.0     4083\n",
      "1.0     3452\n",
      "0.0     2411\n",
      "Name: WEALTH1, dtype: int64\n"
     ]
    }
   ],
   "source": [
    "wealth1_describe= data['WEALTH1'].value_counts(dropna=False) #just to reconfirm the number of remaining nulls\n",
    "print(wealth1_describe)"
   ]
  },
  {
   "cell_type": "markdown",
   "id": "c0428a3d",
   "metadata": {},
   "source": [
    "### EDA"
   ]
  },
  {
   "cell_type": "markdown",
   "id": "dd60f9f9",
   "metadata": {},
   "source": [
    "#### The case study documentation provides no explanation as to what ADI, DMA, MSA, and WEALTH1 mean. But after further research, I was able to find out what these abbrevations commonly mean in the context of US, and their implications on further preprocessing:\n",
    "\n",
    "#### ADI: Area Deprivation Index, a continuous, ordinal variable that measures the level of deprivation/relative poverty in an area. Therefore, ADI should be normalised in the preprocessing stage.\n",
    "\n",
    "#### WEALTH1: An discrete, ordinal variable that rates and individual's wealth, although the exact definitions for the rating are unknown. It should be handled in the same way ADI would be.\n",
    "\n",
    "#### DMA: Designated Market Area (geographical code), a discrete nominal variable that has no meaningful numerical scale. Consequently, instead of being normalized or standardzied, the focus should be on encoding the variable.\n",
    "\n",
    "#### MSA: Metropolitan Statistical Area (geographical code). Ditto above\n",
    "\n",
    "#### GEOCODE2: Some sort of geographical segmentation code. Ditto above\n",
    "\n"
   ]
  },
  {
   "cell_type": "code",
   "execution_count": 41,
   "id": "2cca8d4c",
   "metadata": {},
   "outputs": [
    {
     "data": {
      "image/png": "[encoded data removed]",
      "text/plain": [
       "<Figure size 500x500 with 1 Axes>"
      ]
     },
     "metadata": {},
     "output_type": "display_data"
    },
    {
     "data": {
      "image/png": "[encoded data removed]",
      "text/plain": [
       "<Figure size 500x500 with 1 Axes>"
      ]
     },
     "metadata": {},
     "output_type": "display_data"
    },
    {
     "data": {
      "image/png": "[encoded data removed]",
      "text/plain": [
       "<Figure size 500x500 with 1 Axes>"
      ]
     },
     "metadata": {},
     "output_type": "display_data"
    },
    {
     "data": {
      "image/png": "[encoded data removed]",
      "text/plain": [
       "<Figure size 500x500 with 1 Axes>"
      ]
     },
     "metadata": {},
     "output_type": "display_data"
    },
    {
     "data": {
      "image/png": "[encoded data removed]",
      "text/plain": [
       "<Figure size 500x500 with 1 Axes>"
      ]
     },
     "metadata": {},
     "output_type": "display_data"
    }
   ],
   "source": [
    "for column in lab_columns:\n",
    "    sns.displot(data=data, x=column)\n",
    "    plt.title(f'Distribution of {column}')\n",
    "    plt.show()"
   ]
  }
 ],
 "metadata": {
  "kernelspec": {
   "display_name": "Python 3 (ipykernel)",
   "language": "python",
   "name": "python3"
  },
  "language_info": {
   "codemirror_mode": {
    "name": "ipython",
    "version": 3
   },
   "file_extension": ".py",
   "mimetype": "text/x-python",
   "name": "python",
   "nbconvert_exporter": "python",
   "pygments_lexer": "ipython3",
   "version": "3.9.13"
  }
 },
 "nbformat": 4,
 "nbformat_minor": 5
}
